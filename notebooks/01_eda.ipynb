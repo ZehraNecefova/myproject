{
 "cells": [
  {
   "cell_type": "code",
   "execution_count": 1,
   "id": "0b18f2ad-bb14-42db-918a-e39ee28071b0",
   "metadata": {},
   "outputs": [
    {
     "name": "stdout",
     "output_type": "stream",
     "text": [
      "Requirement already satisfied: category_encoders in c:\\users\\user\\anaconda3\\lib\\site-packages (2.8.1)\n",
      "Requirement already satisfied: numpy>=1.14.0 in c:\\users\\user\\anaconda3\\lib\\site-packages (from category_encoders) (1.24.4)\n",
      "Requirement already satisfied: pandas>=1.0.5 in c:\\users\\user\\anaconda3\\lib\\site-packages (from category_encoders) (1.5.3)\n",
      "Requirement already satisfied: patsy>=0.5.1 in c:\\users\\user\\anaconda3\\lib\\site-packages (from category_encoders) (0.5.3)\n",
      "Requirement already satisfied: scikit-learn>=1.6.0 in c:\\users\\user\\anaconda3\\lib\\site-packages (from category_encoders) (1.7.1)\n",
      "Requirement already satisfied: scipy>=1.0.0 in c:\\users\\user\\anaconda3\\lib\\site-packages (from category_encoders) (1.10.1)\n",
      "Requirement already satisfied: statsmodels>=0.9.0 in c:\\users\\user\\anaconda3\\lib\\site-packages (from category_encoders) (0.14.0)\n",
      "Requirement already satisfied: python-dateutil>=2.8.1 in c:\\users\\user\\anaconda3\\lib\\site-packages (from pandas>=1.0.5->category_encoders) (2.8.2)\n",
      "Requirement already satisfied: pytz>=2020.1 in c:\\users\\user\\anaconda3\\lib\\site-packages (from pandas>=1.0.5->category_encoders) (2023.3.post1)\n",
      "Requirement already satisfied: six in c:\\users\\user\\anaconda3\\lib\\site-packages (from patsy>=0.5.1->category_encoders) (1.16.0)\n",
      "Requirement already satisfied: joblib>=1.2.0 in c:\\users\\user\\anaconda3\\lib\\site-packages (from scikit-learn>=1.6.0->category_encoders) (1.2.0)\n",
      "Requirement already satisfied: threadpoolctl>=3.1.0 in c:\\users\\user\\anaconda3\\lib\\site-packages (from scikit-learn>=1.6.0->category_encoders) (3.6.0)\n",
      "Requirement already satisfied: packaging>=21.3 in c:\\users\\user\\anaconda3\\lib\\site-packages (from statsmodels>=0.9.0->category_encoders) (23.1)\n"
     ]
    }
   ],
   "source": [
    "!pip install category_encoders"
   ]
  },
  {
   "cell_type": "code",
   "execution_count": 3,
   "id": "48cb59f3-cfe8-4ead-b75a-3985ea9c355f",
   "metadata": {},
   "outputs": [],
   "source": [
    "import pandas as pd\n",
    "import matplotlib.pyplot as plt\n",
    "import seaborn as sns"
   ]
  },
  {
   "cell_type": "code",
   "execution_count": 5,
   "id": "dd984612-64fb-4499-b074-3fdab427c359",
   "metadata": {},
   "outputs": [
    {
     "data": {
      "text/html": [
       "<div>\n",
       "<style scoped>\n",
       "    .dataframe tbody tr th:only-of-type {\n",
       "        vertical-align: middle;\n",
       "    }\n",
       "\n",
       "    .dataframe tbody tr th {\n",
       "        vertical-align: top;\n",
       "    }\n",
       "\n",
       "    .dataframe thead th {\n",
       "        text-align: right;\n",
       "    }\n",
       "</style>\n",
       "<table border=\"1\" class=\"dataframe\">\n",
       "  <thead>\n",
       "    <tr style=\"text-align: right;\">\n",
       "      <th></th>\n",
       "      <th>telephone_number</th>\n",
       "      <th>trf</th>\n",
       "      <th>age</th>\n",
       "      <th>gndr</th>\n",
       "      <th>tenure</th>\n",
       "      <th>age_dev</th>\n",
       "      <th>dev_man</th>\n",
       "      <th>device_os_name</th>\n",
       "      <th>dev_num</th>\n",
       "      <th>is_dualsim</th>\n",
       "      <th>...</th>\n",
       "      <th>val13_6</th>\n",
       "      <th>val14_6</th>\n",
       "      <th>val15_6</th>\n",
       "      <th>val16_6</th>\n",
       "      <th>val17_6</th>\n",
       "      <th>val18_6</th>\n",
       "      <th>val19_6</th>\n",
       "      <th>val20_6</th>\n",
       "      <th>val21_6</th>\n",
       "      <th>target</th>\n",
       "    </tr>\n",
       "  </thead>\n",
       "  <tbody>\n",
       "    <tr>\n",
       "      <th>9626</th>\n",
       "      <td>iWBn_13aJO</td>\n",
       "      <td>J</td>\n",
       "      <td>50</td>\n",
       "      <td>M</td>\n",
       "      <td>6957.0</td>\n",
       "      <td>1263</td>\n",
       "      <td>Samsung</td>\n",
       "      <td>Android OS</td>\n",
       "      <td>1</td>\n",
       "      <td>1</td>\n",
       "      <td>...</td>\n",
       "      <td>0.000000</td>\n",
       "      <td>0.0</td>\n",
       "      <td>0.00</td>\n",
       "      <td>0.56</td>\n",
       "      <td>0.00</td>\n",
       "      <td>0.00</td>\n",
       "      <td>60.0</td>\n",
       "      <td>7.0</td>\n",
       "      <td>0.0</td>\n",
       "      <td>1</td>\n",
       "    </tr>\n",
       "    <tr>\n",
       "      <th>34347</th>\n",
       "      <td>8JWaD2wYoQ</td>\n",
       "      <td>M</td>\n",
       "      <td>52</td>\n",
       "      <td>M</td>\n",
       "      <td>1041.0</td>\n",
       "      <td>125</td>\n",
       "      <td>Samsung</td>\n",
       "      <td>Android OS</td>\n",
       "      <td>2</td>\n",
       "      <td>1</td>\n",
       "      <td>...</td>\n",
       "      <td>206.536585</td>\n",
       "      <td>0.0</td>\n",
       "      <td>0.40</td>\n",
       "      <td>0.00</td>\n",
       "      <td>0.16</td>\n",
       "      <td>0.24</td>\n",
       "      <td>156.0</td>\n",
       "      <td>0.0</td>\n",
       "      <td>2.0</td>\n",
       "      <td>1</td>\n",
       "    </tr>\n",
       "    <tr>\n",
       "      <th>72797</th>\n",
       "      <td>sbPnQURi3j</td>\n",
       "      <td>A</td>\n",
       "      <td>49</td>\n",
       "      <td>U</td>\n",
       "      <td>7176.0</td>\n",
       "      <td>345</td>\n",
       "      <td>Samsung</td>\n",
       "      <td>Android OS</td>\n",
       "      <td>1</td>\n",
       "      <td>1</td>\n",
       "      <td>...</td>\n",
       "      <td>0.000000</td>\n",
       "      <td>0.0</td>\n",
       "      <td>0.25</td>\n",
       "      <td>2.35</td>\n",
       "      <td>0.00</td>\n",
       "      <td>0.25</td>\n",
       "      <td>241.0</td>\n",
       "      <td>87.0</td>\n",
       "      <td>4.0</td>\n",
       "      <td>1</td>\n",
       "    </tr>\n",
       "    <tr>\n",
       "      <th>68025</th>\n",
       "      <td>qOy-JlqPTl</td>\n",
       "      <td>M</td>\n",
       "      <td>49</td>\n",
       "      <td>M</td>\n",
       "      <td>4309.0</td>\n",
       "      <td>466</td>\n",
       "      <td>Samsung</td>\n",
       "      <td>Android OS</td>\n",
       "      <td>1</td>\n",
       "      <td>1</td>\n",
       "      <td>...</td>\n",
       "      <td>51.885746</td>\n",
       "      <td>0.0</td>\n",
       "      <td>0.00</td>\n",
       "      <td>0.00</td>\n",
       "      <td>0.00</td>\n",
       "      <td>0.00</td>\n",
       "      <td>299.0</td>\n",
       "      <td>142.0</td>\n",
       "      <td>80.0</td>\n",
       "      <td>1</td>\n",
       "    </tr>\n",
       "    <tr>\n",
       "      <th>31781</th>\n",
       "      <td>MNODhcb7h0</td>\n",
       "      <td>A</td>\n",
       "      <td>50</td>\n",
       "      <td>U</td>\n",
       "      <td>6999.0</td>\n",
       "      <td>695</td>\n",
       "      <td>Samsung</td>\n",
       "      <td>Android OS</td>\n",
       "      <td>1</td>\n",
       "      <td>1</td>\n",
       "      <td>...</td>\n",
       "      <td>0.000000</td>\n",
       "      <td>0.0</td>\n",
       "      <td>0.00</td>\n",
       "      <td>0.80</td>\n",
       "      <td>0.00</td>\n",
       "      <td>0.00</td>\n",
       "      <td>121.0</td>\n",
       "      <td>96.0</td>\n",
       "      <td>0.0</td>\n",
       "      <td>1</td>\n",
       "    </tr>\n",
       "    <tr>\n",
       "      <th>...</th>\n",
       "      <td>...</td>\n",
       "      <td>...</td>\n",
       "      <td>...</td>\n",
       "      <td>...</td>\n",
       "      <td>...</td>\n",
       "      <td>...</td>\n",
       "      <td>...</td>\n",
       "      <td>...</td>\n",
       "      <td>...</td>\n",
       "      <td>...</td>\n",
       "      <td>...</td>\n",
       "      <td>...</td>\n",
       "      <td>...</td>\n",
       "      <td>...</td>\n",
       "      <td>...</td>\n",
       "      <td>...</td>\n",
       "      <td>...</td>\n",
       "      <td>...</td>\n",
       "      <td>...</td>\n",
       "      <td>...</td>\n",
       "      <td>...</td>\n",
       "    </tr>\n",
       "    <tr>\n",
       "      <th>10237</th>\n",
       "      <td>vjo-T0Bkap</td>\n",
       "      <td>F</td>\n",
       "      <td>44</td>\n",
       "      <td>M</td>\n",
       "      <td>2047.0</td>\n",
       "      <td>1401</td>\n",
       "      <td>Samsung</td>\n",
       "      <td>Android OS</td>\n",
       "      <td>1</td>\n",
       "      <td>1</td>\n",
       "      <td>...</td>\n",
       "      <td>0.000000</td>\n",
       "      <td>0.0</td>\n",
       "      <td>0.18</td>\n",
       "      <td>1.50</td>\n",
       "      <td>0.00</td>\n",
       "      <td>0.09</td>\n",
       "      <td>108.0</td>\n",
       "      <td>18.0</td>\n",
       "      <td>2.0</td>\n",
       "      <td>0</td>\n",
       "    </tr>\n",
       "    <tr>\n",
       "      <th>81420</th>\n",
       "      <td>hr9U3_0kXW</td>\n",
       "      <td>G</td>\n",
       "      <td>39</td>\n",
       "      <td>U</td>\n",
       "      <td>4908.0</td>\n",
       "      <td>176</td>\n",
       "      <td>Apple</td>\n",
       "      <td>iOS</td>\n",
       "      <td>2</td>\n",
       "      <td>1</td>\n",
       "      <td>...</td>\n",
       "      <td>457.193839</td>\n",
       "      <td>0.0</td>\n",
       "      <td>0.24</td>\n",
       "      <td>2.24</td>\n",
       "      <td>0.00</td>\n",
       "      <td>0.24</td>\n",
       "      <td>98.0</td>\n",
       "      <td>23.0</td>\n",
       "      <td>1.0</td>\n",
       "      <td>0</td>\n",
       "    </tr>\n",
       "    <tr>\n",
       "      <th>19572</th>\n",
       "      <td>xw1HISdQiO</td>\n",
       "      <td>H</td>\n",
       "      <td>32</td>\n",
       "      <td>M</td>\n",
       "      <td>5317.0</td>\n",
       "      <td>1088</td>\n",
       "      <td>Samsung</td>\n",
       "      <td>Android OS</td>\n",
       "      <td>1</td>\n",
       "      <td>1</td>\n",
       "      <td>...</td>\n",
       "      <td>184.259022</td>\n",
       "      <td>0.0</td>\n",
       "      <td>5.82</td>\n",
       "      <td>7.16</td>\n",
       "      <td>4.44</td>\n",
       "      <td>1.38</td>\n",
       "      <td>256.0</td>\n",
       "      <td>54.0</td>\n",
       "      <td>61.0</td>\n",
       "      <td>0</td>\n",
       "    </tr>\n",
       "    <tr>\n",
       "      <th>81067</th>\n",
       "      <td>r5nxa5j2G0</td>\n",
       "      <td>D</td>\n",
       "      <td>43</td>\n",
       "      <td>U</td>\n",
       "      <td>6850.0</td>\n",
       "      <td>1418</td>\n",
       "      <td>Samsung</td>\n",
       "      <td>Android OS</td>\n",
       "      <td>1</td>\n",
       "      <td>1</td>\n",
       "      <td>...</td>\n",
       "      <td>0.000000</td>\n",
       "      <td>0.0</td>\n",
       "      <td>1.90</td>\n",
       "      <td>4.10</td>\n",
       "      <td>0.10</td>\n",
       "      <td>1.80</td>\n",
       "      <td>92.0</td>\n",
       "      <td>31.0</td>\n",
       "      <td>14.0</td>\n",
       "      <td>0</td>\n",
       "    </tr>\n",
       "    <tr>\n",
       "      <th>90423</th>\n",
       "      <td>fcvlu4pk-Q</td>\n",
       "      <td>A</td>\n",
       "      <td>39</td>\n",
       "      <td>M</td>\n",
       "      <td>2121.0</td>\n",
       "      <td>517</td>\n",
       "      <td>Xiaomi</td>\n",
       "      <td>Android OS</td>\n",
       "      <td>1</td>\n",
       "      <td>1</td>\n",
       "      <td>...</td>\n",
       "      <td>0.000000</td>\n",
       "      <td>0.0</td>\n",
       "      <td>1.70</td>\n",
       "      <td>1.20</td>\n",
       "      <td>0.50</td>\n",
       "      <td>1.20</td>\n",
       "      <td>143.0</td>\n",
       "      <td>14.0</td>\n",
       "      <td>22.0</td>\n",
       "      <td>0</td>\n",
       "    </tr>\n",
       "  </tbody>\n",
       "</table>\n",
       "<p>10000 rows × 132 columns</p>\n",
       "</div>"
      ],
      "text/plain": [
       "      telephone_number trf age gndr  tenure age_dev  dev_man device_os_name  \\\n",
       "9626        iWBn_13aJO   J  50    M  6957.0    1263  Samsung     Android OS   \n",
       "34347       8JWaD2wYoQ   M  52    M  1041.0     125  Samsung     Android OS   \n",
       "72797       sbPnQURi3j   A  49    U  7176.0     345  Samsung     Android OS   \n",
       "68025       qOy-JlqPTl   M  49    M  4309.0     466  Samsung     Android OS   \n",
       "31781       MNODhcb7h0   A  50    U  6999.0     695  Samsung     Android OS   \n",
       "...                ...  ..  ..  ...     ...     ...      ...            ...   \n",
       "10237       vjo-T0Bkap   F  44    M  2047.0    1401  Samsung     Android OS   \n",
       "81420       hr9U3_0kXW   G  39    U  4908.0     176    Apple            iOS   \n",
       "19572       xw1HISdQiO   H  32    M  5317.0    1088  Samsung     Android OS   \n",
       "81067       r5nxa5j2G0   D  43    U  6850.0    1418  Samsung     Android OS   \n",
       "90423       fcvlu4pk-Q   A  39    M  2121.0     517   Xiaomi     Android OS   \n",
       "\n",
       "      dev_num is_dualsim  ...     val13_6 val14_6 val15_6 val16_6  val17_6  \\\n",
       "9626        1          1  ...    0.000000     0.0    0.00    0.56     0.00   \n",
       "34347       2          1  ...  206.536585     0.0    0.40    0.00     0.16   \n",
       "72797       1          1  ...    0.000000     0.0    0.25    2.35     0.00   \n",
       "68025       1          1  ...   51.885746     0.0    0.00    0.00     0.00   \n",
       "31781       1          1  ...    0.000000     0.0    0.00    0.80     0.00   \n",
       "...       ...        ...  ...         ...     ...     ...     ...      ...   \n",
       "10237       1          1  ...    0.000000     0.0    0.18    1.50     0.00   \n",
       "81420       2          1  ...  457.193839     0.0    0.24    2.24     0.00   \n",
       "19572       1          1  ...  184.259022     0.0    5.82    7.16     4.44   \n",
       "81067       1          1  ...    0.000000     0.0    1.90    4.10     0.10   \n",
       "90423       1          1  ...    0.000000     0.0    1.70    1.20     0.50   \n",
       "\n",
       "       val18_6  val19_6  val20_6  val21_6  target  \n",
       "9626      0.00     60.0      7.0      0.0       1  \n",
       "34347     0.24    156.0      0.0      2.0       1  \n",
       "72797     0.25    241.0     87.0      4.0       1  \n",
       "68025     0.00    299.0    142.0     80.0       1  \n",
       "31781     0.00    121.0     96.0      0.0       1  \n",
       "...        ...      ...      ...      ...     ...  \n",
       "10237     0.09    108.0     18.0      2.0       0  \n",
       "81420     0.24     98.0     23.0      1.0       0  \n",
       "19572     1.38    256.0     54.0     61.0       0  \n",
       "81067     1.80     92.0     31.0     14.0       0  \n",
       "90423     1.20    143.0     14.0     22.0       0  \n",
       "\n",
       "[10000 rows x 132 columns]"
      ]
     },
     "execution_count": 5,
     "metadata": {},
     "output_type": "execute_result"
    }
   ],
   "source": [
    "df = pd.read_parquet(\"multisim_dataset.parquet\")  \n",
    "df"
   ]
  },
  {
   "cell_type": "code",
   "execution_count": 7,
   "id": "01db07cc-d88e-4e6d-8d4a-bd2bc2af03e4",
   "metadata": {},
   "outputs": [
    {
     "name": "stdout",
     "output_type": "stream",
     "text": [
      "<class 'pandas.core.frame.DataFrame'>\n",
      "Int64Index: 10000 entries, 9626 to 90423\n",
      "Data columns (total 132 columns):\n",
      " #    Column            Dtype  \n",
      "---   ------            -----  \n",
      " 0    telephone_number  object \n",
      " 1    trf               object \n",
      " 2    age               object \n",
      " 3    gndr              object \n",
      " 4    tenure            float64\n",
      " 5    age_dev           object \n",
      " 6    dev_man           object \n",
      " 7    device_os_name    object \n",
      " 8    dev_num           object \n",
      " 9    is_dualsim        object \n",
      " 10   is_featurephone   object \n",
      " 11   is_smartphone     object \n",
      " 12   simcard_type      object \n",
      " 13   region            object \n",
      " 14   val2_1            float64\n",
      " 15   val3_1            float64\n",
      " 16   val4_1            int64  \n",
      " 17   val5_1            float64\n",
      " 18   val6_1            int64  \n",
      " 19   val7_1            float64\n",
      " 20   val8_1            int64  \n",
      " 21   val9_1            float64\n",
      " 22   val10_1           int64  \n",
      " 23   val11_1           float64\n",
      " 24   val12_1           float64\n",
      " 25   val13_1           float64\n",
      " 26   val14_1           float64\n",
      " 27   val15_1           float64\n",
      " 28   val16_1           float64\n",
      " 29   val17_1           float64\n",
      " 30   val18_1           float64\n",
      " 31   val19_1           int64  \n",
      " 32   val20_1           int64  \n",
      " 33   val21_1           int64  \n",
      " 34   val2_2            float64\n",
      " 35   val3_2            float64\n",
      " 36   val4_2            float64\n",
      " 37   val5_2            float64\n",
      " 38   val6_2            float64\n",
      " 39   val7_2            float64\n",
      " 40   val8_2            float64\n",
      " 41   val9_2            float64\n",
      " 42   val10_2           float64\n",
      " 43   val11_2           float64\n",
      " 44   val12_2           float64\n",
      " 45   val13_2           float64\n",
      " 46   val14_2           float64\n",
      " 47   val15_2           float64\n",
      " 48   val16_2           float64\n",
      " 49   val17_2           float64\n",
      " 50   val18_2           float64\n",
      " 51   val19_2           float64\n",
      " 52   val20_2           float64\n",
      " 53   val21_2           float64\n",
      " 54   val2_3            float64\n",
      " 55   val3_3            float64\n",
      " 56   val4_3            float64\n",
      " 57   val5_3            float64\n",
      " 58   val6_3            float64\n",
      " 59   val7_3            float64\n",
      " 60   val8_3            float64\n",
      " 61   val9_3            float64\n",
      " 62   val10_3           float64\n",
      " 63   val11_3           float64\n",
      " 64   val12_3           float64\n",
      " 65   val13_3           float64\n",
      " 66   val14_3           float64\n",
      " 67   val15_3           float64\n",
      " 68   val16_3           float64\n",
      " 69   val17_3           float64\n",
      " 70   val18_3           float64\n",
      " 71   val19_3           float64\n",
      " 72   val20_3           float64\n",
      " 73   val21_3           float64\n",
      " 74   val2_4            float64\n",
      " 75   val4_4            float64\n",
      " 76   val5_4            float64\n",
      " 77   val6_4            float64\n",
      " 78   val7_4            float64\n",
      " 79   val8_4            float64\n",
      " 80   val9_4            float64\n",
      " 81   val10_4           float64\n",
      " 82   val11_4           float64\n",
      " 83   val12_4           float64\n",
      " 84   val13_4           float64\n",
      " 85   val14_4           float64\n",
      " 86   val15_4           float64\n",
      " 87   val16_4           float64\n",
      " 88   val17_4           float64\n",
      " 89   val18_4           float64\n",
      " 90   val19_4           float64\n",
      " 91   val20_4           float64\n",
      " 92   val21_4           float64\n",
      " 93   val2_5            float64\n",
      " 94   val4_5            float64\n",
      " 95   val5_5            float64\n",
      " 96   val6_5            float64\n",
      " 97   val7_5            float64\n",
      " 98   val8_5            float64\n",
      " 99   val9_5            float64\n",
      " 100  val10_5           float64\n",
      " 101  val11_5           float64\n",
      " 102  val12_5           float64\n",
      " 103  val13_5           float64\n",
      " 104  val14_5           float64\n",
      " 105  val15_5           float64\n",
      " 106  val16_5           float64\n",
      " 107  val17_5           float64\n",
      " 108  val18_5           float64\n",
      " 109  val19_5           float64\n",
      " 110  val20_5           float64\n",
      " 111  val21_5           float64\n",
      " 112  val2_6            float64\n",
      " 113  val4_6            float64\n",
      " 114  val5_6            float64\n",
      " 115  val6_6            float64\n",
      " 116  val7_6            float64\n",
      " 117  val8_6            float64\n",
      " 118  val9_6            float64\n",
      " 119  val10_6           float64\n",
      " 120  val11_6           float64\n",
      " 121  val12_6           float64\n",
      " 122  val13_6           float64\n",
      " 123  val14_6           float64\n",
      " 124  val15_6           float64\n",
      " 125  val16_6           float64\n",
      " 126  val17_6           float64\n",
      " 127  val18_6           float64\n",
      " 128  val19_6           float64\n",
      " 129  val20_6           float64\n",
      " 130  val21_6           float64\n",
      " 131  target            int64  \n",
      "dtypes: float64(111), int64(8), object(13)\n",
      "memory usage: 10.1+ MB\n"
     ]
    }
   ],
   "source": [
    "df.info(verbose=True)\n",
    "\n",
    "#There are some numerical columns that are in object datatype."
   ]
  },
  {
   "cell_type": "code",
   "execution_count": 9,
   "id": "89c35894-c1fe-4273-aac5-a96af2afafd2",
   "metadata": {},
   "outputs": [],
   "source": [
    "ob_to_num = ['age', 'age_dev', 'dev_num', 'is_dualsim', 'is_featurephone', 'is_smartphone']\n",
    "\n",
    "for col in ob_to_num:\n",
    "    df[col] = pd.to_numeric(df[col])"
   ]
  },
  {
   "cell_type": "code",
   "execution_count": 11,
   "id": "53861727-6913-47ff-a6f2-ab872250fc3a",
   "metadata": {},
   "outputs": [
    {
     "data": {
      "text/html": [
       "<div>\n",
       "<style scoped>\n",
       "    .dataframe tbody tr th:only-of-type {\n",
       "        vertical-align: middle;\n",
       "    }\n",
       "\n",
       "    .dataframe tbody tr th {\n",
       "        vertical-align: top;\n",
       "    }\n",
       "\n",
       "    .dataframe thead th {\n",
       "        text-align: right;\n",
       "    }\n",
       "</style>\n",
       "<table border=\"1\" class=\"dataframe\">\n",
       "  <thead>\n",
       "    <tr style=\"text-align: right;\">\n",
       "      <th></th>\n",
       "      <th>age</th>\n",
       "      <th>tenure</th>\n",
       "      <th>age_dev</th>\n",
       "      <th>dev_num</th>\n",
       "      <th>is_dualsim</th>\n",
       "      <th>is_featurephone</th>\n",
       "      <th>is_smartphone</th>\n",
       "      <th>val2_1</th>\n",
       "      <th>val3_1</th>\n",
       "      <th>val4_1</th>\n",
       "      <th>...</th>\n",
       "      <th>val13_6</th>\n",
       "      <th>val14_6</th>\n",
       "      <th>val15_6</th>\n",
       "      <th>val16_6</th>\n",
       "      <th>val17_6</th>\n",
       "      <th>val18_6</th>\n",
       "      <th>val19_6</th>\n",
       "      <th>val20_6</th>\n",
       "      <th>val21_6</th>\n",
       "      <th>target</th>\n",
       "    </tr>\n",
       "  </thead>\n",
       "  <tbody>\n",
       "    <tr>\n",
       "      <th>count</th>\n",
       "      <td>9976.000000</td>\n",
       "      <td>9974.000000</td>\n",
       "      <td>9980.000000</td>\n",
       "      <td>9980.000000</td>\n",
       "      <td>10000.000000</td>\n",
       "      <td>10000.000000</td>\n",
       "      <td>10000.000000</td>\n",
       "      <td>10000.000000</td>\n",
       "      <td>10000.000000</td>\n",
       "      <td>10000.000000</td>\n",
       "      <td>...</td>\n",
       "      <td>9728.000000</td>\n",
       "      <td>9728.000000</td>\n",
       "      <td>9.728000e+03</td>\n",
       "      <td>9.728000e+03</td>\n",
       "      <td>9.728000e+03</td>\n",
       "      <td>9.728000e+03</td>\n",
       "      <td>9728.000000</td>\n",
       "      <td>9728.000000</td>\n",
       "      <td>9728.000000</td>\n",
       "      <td>10000.000000</td>\n",
       "    </tr>\n",
       "    <tr>\n",
       "      <th>mean</th>\n",
       "      <td>44.653368</td>\n",
       "      <td>3705.959996</td>\n",
       "      <td>685.440581</td>\n",
       "      <td>1.698898</td>\n",
       "      <td>0.917700</td>\n",
       "      <td>0.124700</td>\n",
       "      <td>0.875300</td>\n",
       "      <td>12.236181</td>\n",
       "      <td>3.446700</td>\n",
       "      <td>83.165400</td>\n",
       "      <td>...</td>\n",
       "      <td>2028.914189</td>\n",
       "      <td>0.141146</td>\n",
       "      <td>8.848952e-01</td>\n",
       "      <td>1.577953e+00</td>\n",
       "      <td>3.542630e-01</td>\n",
       "      <td>4.751151e-01</td>\n",
       "      <td>185.486842</td>\n",
       "      <td>67.556127</td>\n",
       "      <td>20.955387</td>\n",
       "      <td>0.500000</td>\n",
       "    </tr>\n",
       "    <tr>\n",
       "      <th>std</th>\n",
       "      <td>23.155630</td>\n",
       "      <td>2662.023191</td>\n",
       "      <td>605.393003</td>\n",
       "      <td>1.671612</td>\n",
       "      <td>0.274835</td>\n",
       "      <td>0.330395</td>\n",
       "      <td>0.330395</td>\n",
       "      <td>16.818445</td>\n",
       "      <td>4.948314</td>\n",
       "      <td>161.116319</td>\n",
       "      <td>...</td>\n",
       "      <td>9118.745830</td>\n",
       "      <td>2.658871</td>\n",
       "      <td>2.040635e+00</td>\n",
       "      <td>2.878263e+00</td>\n",
       "      <td>1.045168e+00</td>\n",
       "      <td>1.238263e+00</td>\n",
       "      <td>259.493942</td>\n",
       "      <td>132.488722</td>\n",
       "      <td>49.859408</td>\n",
       "      <td>0.500025</td>\n",
       "    </tr>\n",
       "    <tr>\n",
       "      <th>min</th>\n",
       "      <td>0.000000</td>\n",
       "      <td>0.000000</td>\n",
       "      <td>0.000000</td>\n",
       "      <td>1.000000</td>\n",
       "      <td>0.000000</td>\n",
       "      <td>0.000000</td>\n",
       "      <td>0.000000</td>\n",
       "      <td>0.000000</td>\n",
       "      <td>0.000000</td>\n",
       "      <td>0.000000</td>\n",
       "      <td>...</td>\n",
       "      <td>0.000000</td>\n",
       "      <td>0.000000</td>\n",
       "      <td>-6.183982e-08</td>\n",
       "      <td>-1.108646e-07</td>\n",
       "      <td>-3.352761e-08</td>\n",
       "      <td>-3.576279e-08</td>\n",
       "      <td>0.000000</td>\n",
       "      <td>0.000000</td>\n",
       "      <td>0.000000</td>\n",
       "      <td>0.000000</td>\n",
       "    </tr>\n",
       "    <tr>\n",
       "      <th>25%</th>\n",
       "      <td>34.000000</td>\n",
       "      <td>1256.250000</td>\n",
       "      <td>218.000000</td>\n",
       "      <td>1.000000</td>\n",
       "      <td>1.000000</td>\n",
       "      <td>0.000000</td>\n",
       "      <td>1.000000</td>\n",
       "      <td>2.000000</td>\n",
       "      <td>1.000000</td>\n",
       "      <td>4.000000</td>\n",
       "      <td>...</td>\n",
       "      <td>0.000000</td>\n",
       "      <td>0.000000</td>\n",
       "      <td>0.000000e+00</td>\n",
       "      <td>0.000000e+00</td>\n",
       "      <td>0.000000e+00</td>\n",
       "      <td>0.000000e+00</td>\n",
       "      <td>37.000000</td>\n",
       "      <td>3.000000</td>\n",
       "      <td>0.000000</td>\n",
       "      <td>0.000000</td>\n",
       "    </tr>\n",
       "    <tr>\n",
       "      <th>50%</th>\n",
       "      <td>43.000000</td>\n",
       "      <td>3022.500000</td>\n",
       "      <td>536.500000</td>\n",
       "      <td>1.000000</td>\n",
       "      <td>1.000000</td>\n",
       "      <td>0.000000</td>\n",
       "      <td>1.000000</td>\n",
       "      <td>6.000000</td>\n",
       "      <td>2.000000</td>\n",
       "      <td>26.000000</td>\n",
       "      <td>...</td>\n",
       "      <td>0.000000</td>\n",
       "      <td>0.000000</td>\n",
       "      <td>1.500000e-01</td>\n",
       "      <td>4.400000e-01</td>\n",
       "      <td>0.000000e+00</td>\n",
       "      <td>1.072884e-08</td>\n",
       "      <td>96.000000</td>\n",
       "      <td>20.000000</td>\n",
       "      <td>4.000000</td>\n",
       "      <td>0.500000</td>\n",
       "    </tr>\n",
       "    <tr>\n",
       "      <th>75%</th>\n",
       "      <td>55.000000</td>\n",
       "      <td>6261.000000</td>\n",
       "      <td>984.000000</td>\n",
       "      <td>2.000000</td>\n",
       "      <td>1.000000</td>\n",
       "      <td>0.000000</td>\n",
       "      <td>1.000000</td>\n",
       "      <td>16.000000</td>\n",
       "      <td>4.000000</td>\n",
       "      <td>85.000000</td>\n",
       "      <td>...</td>\n",
       "      <td>200.062908</td>\n",
       "      <td>0.000000</td>\n",
       "      <td>9.000000e-01</td>\n",
       "      <td>2.000000e+00</td>\n",
       "      <td>3.000000e-01</td>\n",
       "      <td>4.200000e-01</td>\n",
       "      <td>223.000000</td>\n",
       "      <td>67.000000</td>\n",
       "      <td>18.000000</td>\n",
       "      <td>1.000000</td>\n",
       "    </tr>\n",
       "    <tr>\n",
       "      <th>max</th>\n",
       "      <td>1941.000000</td>\n",
       "      <td>8978.000000</td>\n",
       "      <td>2860.000000</td>\n",
       "      <td>76.000000</td>\n",
       "      <td>1.000000</td>\n",
       "      <td>1.000000</td>\n",
       "      <td>1.000000</td>\n",
       "      <td>325.000000</td>\n",
       "      <td>90.000000</td>\n",
       "      <td>2628.000000</td>\n",
       "      <td>...</td>\n",
       "      <td>159548.365647</td>\n",
       "      <td>192.462886</td>\n",
       "      <td>4.920000e+01</td>\n",
       "      <td>5.918000e+01</td>\n",
       "      <td>3.464000e+01</td>\n",
       "      <td>2.886000e+01</td>\n",
       "      <td>4488.000000</td>\n",
       "      <td>1958.000000</td>\n",
       "      <td>1070.000000</td>\n",
       "      <td>1.000000</td>\n",
       "    </tr>\n",
       "  </tbody>\n",
       "</table>\n",
       "<p>8 rows × 125 columns</p>\n",
       "</div>"
      ],
      "text/plain": [
       "               age       tenure      age_dev      dev_num    is_dualsim  \\\n",
       "count  9976.000000  9974.000000  9980.000000  9980.000000  10000.000000   \n",
       "mean     44.653368  3705.959996   685.440581     1.698898      0.917700   \n",
       "std      23.155630  2662.023191   605.393003     1.671612      0.274835   \n",
       "min       0.000000     0.000000     0.000000     1.000000      0.000000   \n",
       "25%      34.000000  1256.250000   218.000000     1.000000      1.000000   \n",
       "50%      43.000000  3022.500000   536.500000     1.000000      1.000000   \n",
       "75%      55.000000  6261.000000   984.000000     2.000000      1.000000   \n",
       "max    1941.000000  8978.000000  2860.000000    76.000000      1.000000   \n",
       "\n",
       "       is_featurephone  is_smartphone        val2_1        val3_1  \\\n",
       "count     10000.000000   10000.000000  10000.000000  10000.000000   \n",
       "mean          0.124700       0.875300     12.236181      3.446700   \n",
       "std           0.330395       0.330395     16.818445      4.948314   \n",
       "min           0.000000       0.000000      0.000000      0.000000   \n",
       "25%           0.000000       1.000000      2.000000      1.000000   \n",
       "50%           0.000000       1.000000      6.000000      2.000000   \n",
       "75%           0.000000       1.000000     16.000000      4.000000   \n",
       "max           1.000000       1.000000    325.000000     90.000000   \n",
       "\n",
       "             val4_1  ...        val13_6      val14_6       val15_6  \\\n",
       "count  10000.000000  ...    9728.000000  9728.000000  9.728000e+03   \n",
       "mean      83.165400  ...    2028.914189     0.141146  8.848952e-01   \n",
       "std      161.116319  ...    9118.745830     2.658871  2.040635e+00   \n",
       "min        0.000000  ...       0.000000     0.000000 -6.183982e-08   \n",
       "25%        4.000000  ...       0.000000     0.000000  0.000000e+00   \n",
       "50%       26.000000  ...       0.000000     0.000000  1.500000e-01   \n",
       "75%       85.000000  ...     200.062908     0.000000  9.000000e-01   \n",
       "max     2628.000000  ...  159548.365647   192.462886  4.920000e+01   \n",
       "\n",
       "            val16_6       val17_6       val18_6      val19_6      val20_6  \\\n",
       "count  9.728000e+03  9.728000e+03  9.728000e+03  9728.000000  9728.000000   \n",
       "mean   1.577953e+00  3.542630e-01  4.751151e-01   185.486842    67.556127   \n",
       "std    2.878263e+00  1.045168e+00  1.238263e+00   259.493942   132.488722   \n",
       "min   -1.108646e-07 -3.352761e-08 -3.576279e-08     0.000000     0.000000   \n",
       "25%    0.000000e+00  0.000000e+00  0.000000e+00    37.000000     3.000000   \n",
       "50%    4.400000e-01  0.000000e+00  1.072884e-08    96.000000    20.000000   \n",
       "75%    2.000000e+00  3.000000e-01  4.200000e-01   223.000000    67.000000   \n",
       "max    5.918000e+01  3.464000e+01  2.886000e+01  4488.000000  1958.000000   \n",
       "\n",
       "           val21_6        target  \n",
       "count  9728.000000  10000.000000  \n",
       "mean     20.955387      0.500000  \n",
       "std      49.859408      0.500025  \n",
       "min       0.000000      0.000000  \n",
       "25%       0.000000      0.000000  \n",
       "50%       4.000000      0.500000  \n",
       "75%      18.000000      1.000000  \n",
       "max    1070.000000      1.000000  \n",
       "\n",
       "[8 rows x 125 columns]"
      ]
     },
     "execution_count": 11,
     "metadata": {},
     "output_type": "execute_result"
    }
   ],
   "source": [
    "df.describe()"
   ]
  },
  {
   "cell_type": "code",
   "execution_count": 13,
   "id": "15b7f357-25dc-4b39-a1c7-dca8b567fe3a",
   "metadata": {},
   "outputs": [
    {
     "data": {
      "text/plain": [
       "1    5000\n",
       "0    5000\n",
       "Name: target, dtype: int64"
      ]
     },
     "execution_count": 13,
     "metadata": {},
     "output_type": "execute_result"
    }
   ],
   "source": [
    "df[\"target\"].value_counts()\n",
    "\n",
    "#Target column is balanced"
   ]
  },
  {
   "cell_type": "code",
   "execution_count": 15,
   "id": "42f6431f-d122-473b-8c11-8d9be9f07854",
   "metadata": {},
   "outputs": [
    {
     "data": {
      "text/plain": [
       "telephone_number      0\n",
       "trf                   0\n",
       "age                  24\n",
       "gndr                  0\n",
       "tenure               26\n",
       "                   ... \n",
       "val18_6             272\n",
       "val19_6             272\n",
       "val20_6             272\n",
       "val21_6             272\n",
       "target                0\n",
       "Length: 132, dtype: int64"
      ]
     },
     "execution_count": 15,
     "metadata": {},
     "output_type": "execute_result"
    }
   ],
   "source": [
    "df.isnull().sum()\n",
    "\n",
    "#There are lots of columns with nulls."
   ]
  },
  {
   "cell_type": "code",
   "execution_count": 17,
   "id": "c321dfb8-8465-4952-9672-55eb3434504e",
   "metadata": {},
   "outputs": [
    {
     "data": {
      "text/plain": [
       "<Axes: xlabel='age', ylabel='Count'>"
      ]
     },
     "execution_count": 17,
     "metadata": {},
     "output_type": "execute_result"
    },
    {
     "data": {
      "image/png": "[encoded data removed]",
      "text/plain": [
       "<Figure size 640x480 with 1 Axes>"
      ]
     },
     "metadata": {},
     "output_type": "display_data"
    }
   ],
   "source": [
    "sns.histplot(df[\"age\"])"
   ]
  },
  {
   "cell_type": "code",
   "execution_count": 19,
   "id": "7758ca24-595e-4123-bff9-d23558944b22",
   "metadata": {},
   "outputs": [
    {
     "data": {
      "text/plain": [
       "<Axes: xlabel='age'>"
      ]
     },
     "execution_count": 19,
     "metadata": {},
     "output_type": "execute_result"
    },
    {
     "data": {
      "image/png": "[encoded data removed]",
      "text/plain": [
       "<Figure size 640x480 with 1 Axes>"
      ]
     },
     "metadata": {},
     "output_type": "display_data"
    }
   ],
   "source": [
    "sns.boxplot(x=pd.to_numeric(df['age']))"
   ]
  },
  {
   "cell_type": "code",
   "execution_count": 21,
   "id": "31a1a142-f5b7-4662-8c20-355017fd6d9a",
   "metadata": {},
   "outputs": [
    {
     "data": {
      "text/plain": [
       "1941.0"
      ]
     },
     "execution_count": 21,
     "metadata": {},
     "output_type": "execute_result"
    }
   ],
   "source": [
    "df[\"age\"].max()\n",
    "\n",
    "#It seems there is a value in age column, not age but birthyear."
   ]
  },
  {
   "cell_type": "code",
   "execution_count": 23,
   "id": "93050cfc-a6e9-4edf-9c7b-7eb71ce54e18",
   "metadata": {},
   "outputs": [],
   "source": [
    "df.loc[df['age'] == 1941, 'age'] = 2025 - 1941"
   ]
  },
  {
   "cell_type": "code",
   "execution_count": 25,
   "id": "d57a0ae3-7696-4577-b553-5c8c4d3adadf",
   "metadata": {},
   "outputs": [
    {
     "data": {
      "text/plain": [
       "<Axes: xlabel='age', ylabel='Count'>"
      ]
     },
     "execution_count": 25,
     "metadata": {},
     "output_type": "execute_result"
    },
    {
     "data": {
      "image/png": "[encoded data removed]",
      "text/plain": [
       "<Figure size 640x480 with 1 Axes>"
      ]
     },
     "metadata": {},
     "output_type": "display_data"
    }
   ],
   "source": [
    "sns.histplot(df[\"age\"])\n",
    "\n",
    "#Age column is normally distributed."
   ]
  },
  {
   "cell_type": "code",
   "execution_count": 27,
   "id": "a1d06c7a-c760-4cf6-908d-6fef8a2b15bf",
   "metadata": {},
   "outputs": [
    {
     "data": {
      "text/plain": [
       "<Axes: xlabel='tenure', ylabel='Count'>"
      ]
     },
     "execution_count": 27,
     "metadata": {},
     "output_type": "execute_result"
    },
    {
     "data": {
      "image/png": "[encoded data removed]",
      "text/plain": [
       "<Figure size 640x480 with 1 Axes>"
      ]
     },
     "metadata": {},
     "output_type": "display_data"
    }
   ],
   "source": [
    "sns.histplot(df[\"tenure\"])\n",
    "\n",
    "#This column a positively skewed, multimodal distribution"
   ]
  },
  {
   "cell_type": "code",
   "execution_count": 29,
   "id": "d08b6800-d2a6-403d-ae9b-e727462f3b24",
   "metadata": {},
   "outputs": [
    {
     "data": {
      "text/plain": [
       "<Axes: xlabel='age_dev', ylabel='Count'>"
      ]
     },
     "execution_count": 29,
     "metadata": {},
     "output_type": "execute_result"
    },
    {
     "data": {
      "image/png": "[encoded data removed]",
      "text/plain": [
       "<Figure size 640x480 with 1 Axes>"
      ]
     },
     "metadata": {},
     "output_type": "display_data"
    }
   ],
   "source": [
    "sns.histplot(df[\"age_dev\"])\n",
    "\n",
    "#Follows right skewness"
   ]
  },
  {
   "cell_type": "code",
   "execution_count": 31,
   "id": "1d36a3eb-8734-4847-a27e-4e7c3286696c",
   "metadata": {
    "scrolled": true
   },
   "outputs": [
    {
     "data": {
      "image/png": "[encoded data removed]",
      "text/plain": [
       "<Figure size 640x480 with 1 Axes>"
      ]
     },
     "metadata": {},
     "output_type": "display_data"
    },
    {
     "data": {
      "image/png": "[encoded data removed]",
      "text/plain": [
       "<Figure size 640x480 with 1 Axes>"
      ]
     },
     "metadata": {},
     "output_type": "display_data"
    },
    {
     "data": {
      "image/png": "[encoded data removed]",
      "text/plain": [
       "<Figure size 640x480 with 1 Axes>"
      ]
     },
     "metadata": {},
     "output_type": "display_data"
    },
    {
     "data": {
      "image/png": "[encoded data removed]",
      "text/plain": [
       "<Figure size 640x480 with 1 Axes>"
      ]
     },
     "metadata": {},
     "output_type": "display_data"
    }
   ],
   "source": [
    "cols=['dev_num','age_dev','tenure','age']\n",
    "for col in cols:\n",
    "    sns.boxplot(x=(df[col]))\n",
    "    plt.show()\n",
    "\n",
    "\n",
    "#Except tenure variable, others have outliers, dev_num and age_dev columns have lots of extreme values"
   ]
  },
  {
   "cell_type": "code",
   "execution_count": 33,
   "id": "c7082060-58f9-4eff-b926-fcd90452526e",
   "metadata": {},
   "outputs": [
    {
     "data": {
      "image/png": "[encoded data removed]",
      "text/plain": [
       "<Figure size 640x480 with 1 Axes>"
      ]
     },
     "metadata": {},
     "output_type": "display_data"
    },
    {
     "data": {
      "image/png": "[encoded data removed]",
      "text/plain": [
       "<Figure size 640x480 with 1 Axes>"
      ]
     },
     "metadata": {},
     "output_type": "display_data"
    },
    {
     "data": {
      "image/png": "[encoded data removed]",
      "text/plain": [
       "<Figure size 640x480 with 1 Axes>"
      ]
     },
     "metadata": {},
     "output_type": "display_data"
    }
   ],
   "source": [
    "cols=['is_dualsim','is_featurephone','is_smartphone']\n",
    "for c in cols:\n",
    "    sns.countplot(x=df[c])\n",
    "    plt.show()\n",
    "\n",
    "#It's obvious that distincly most of the devices can hold 2 simcards.\n",
    "#And number of smartphones are way more than featurephones."
   ]
  },
  {
   "cell_type": "code",
   "execution_count": 35,
   "id": "bc32a283-95f2-45be-9526-8473c2eaae8d",
   "metadata": {},
   "outputs": [
    {
     "data": {
      "text/plain": [
       "<Axes: xlabel='gndr', ylabel='count'>"
      ]
     },
     "execution_count": 35,
     "metadata": {},
     "output_type": "execute_result"
    },
    {
     "data": {
      "image/png": "[encoded data removed]",
      "text/plain": [
       "<Figure size 640x480 with 1 Axes>"
      ]
     },
     "metadata": {},
     "output_type": "display_data"
    }
   ],
   "source": [
    "sns.countplot(x=df[\"gndr\"])\n",
    "\n",
    "#In the dataset number of males are dominant."
   ]
  },
  {
   "cell_type": "code",
   "execution_count": 37,
   "id": "cfd7639d-12dc-4864-a975-34293081fa3a",
   "metadata": {},
   "outputs": [
    {
     "data": {
      "text/plain": [
       "<Axes: xlabel='trf', ylabel='count'>"
      ]
     },
     "execution_count": 37,
     "metadata": {},
     "output_type": "execute_result"
    },
    {
     "data": {
      "image/png": "[encoded data removed]",
      "text/plain": [
       "<Figure size 640x480 with 1 Axes>"
      ]
     },
     "metadata": {},
     "output_type": "display_data"
    }
   ],
   "source": [
    "sns.countplot(x=df[\"trf\"])\n",
    "\n",
    "#most of the customers use tariff A followed by H. Others are used nearly by the same number of people."
   ]
  },
  {
   "cell_type": "code",
   "execution_count": 39,
   "id": "20dcc7e1-eae5-40d6-94be-7428024eb5c2",
   "metadata": {},
   "outputs": [
    {
     "data": {
      "text/plain": [
       "<Axes: xlabel='dev_man', ylabel='count'>"
      ]
     },
     "execution_count": 39,
     "metadata": {},
     "output_type": "execute_result"
    },
    {
     "data": {
      "image/png": "[encoded data removed]",
      "text/plain": [
       "<Figure size 640x480 with 1 Axes>"
      ]
     },
     "metadata": {},
     "output_type": "display_data"
    }
   ],
   "source": [
    "sns.countplot(x=df[\"dev_man\"])"
   ]
  },
  {
   "cell_type": "code",
   "execution_count": 41,
   "id": "2a96d43b-3689-40db-bd7b-42baeea056c1",
   "metadata": {},
   "outputs": [
    {
     "data": {
      "text/plain": [
       "Samsung          4623\n",
       "Xiaomi           2738\n",
       "Apple             825\n",
       "Hmd Global Oy     464\n",
       "Nokia             294\n",
       "Huawei            277\n",
       "Honor             174\n",
       "Realme             60\n",
       "Hedy               52\n",
       "F-Plus             45\n",
       "Name: dev_man, dtype: int64"
      ]
     },
     "execution_count": 41,
     "metadata": {},
     "output_type": "execute_result"
    }
   ],
   "source": [
    "df[\"dev_man\"].value_counts().head(10)\n",
    "\n",
    "#Number of people who use Samsung exceed others markedly, being nearly twofold of Xiaomi users, followed by Apple."
   ]
  },
  {
   "cell_type": "code",
   "execution_count": 43,
   "id": "630f929f-f2c7-4c99-90d7-380745600d6e",
   "metadata": {},
   "outputs": [
    {
     "data": {
      "text/plain": [
       "<Axes: xlabel='device_os_name', ylabel='count'>"
      ]
     },
     "execution_count": 43,
     "metadata": {},
     "output_type": "execute_result"
    },
    {
     "data": {
      "image/png": "[encoded data removed]",
      "text/plain": [
       "<Figure size 640x480 with 1 Axes>"
      ]
     },
     "metadata": {},
     "output_type": "display_data"
    }
   ],
   "source": [
    "sns.countplot(x=df[\"device_os_name\"])"
   ]
  },
  {
   "cell_type": "code",
   "execution_count": 45,
   "id": "18c15871-58ec-46f6-9499-b4ca0bdbab76",
   "metadata": {},
   "outputs": [
    {
     "data": {
      "text/plain": [
       "<Axes: xlabel='simcard_type', ylabel='count'>"
      ]
     },
     "execution_count": 45,
     "metadata": {},
     "output_type": "execute_result"
    },
    {
     "data": {
      "image/png": "[encoded data removed]",
      "text/plain": [
       "<Figure size 640x480 with 1 Axes>"
      ]
     },
     "metadata": {},
     "output_type": "display_data"
    }
   ],
   "source": [
    "sns.countplot(x=df[\"simcard_type\"])\n",
    "\n",
    "#4G is the most used simcard type, used by nearly 8000 people."
   ]
  },
  {
   "cell_type": "code",
   "execution_count": 47,
   "id": "9652fd67-6d27-406d-b102-ba80c204df7f",
   "metadata": {},
   "outputs": [
    {
     "data": {
      "text/plain": [
       "<Axes: xlabel='target', ylabel='tenure'>"
      ]
     },
     "execution_count": 47,
     "metadata": {},
     "output_type": "execute_result"
    },
    {
     "data": {
      "image/png": "[encoded data removed]",
      "text/plain": [
       "<Figure size 640x480 with 1 Axes>"
      ]
     },
     "metadata": {},
     "output_type": "display_data"
    }
   ],
   "source": [
    "sns.barplot(data=df,x='target',y='tenure')\n",
    "\n",
    "#The average tenure is slightly higher in the multisimmers."
   ]
  },
  {
   "cell_type": "code",
   "execution_count": 49,
   "id": "21bbf9d8-9fdc-47a3-a3d3-f5a8d1c4ad10",
   "metadata": {},
   "outputs": [
    {
     "data": {
      "text/html": [
       "<div>\n",
       "<style scoped>\n",
       "    .dataframe tbody tr th:only-of-type {\n",
       "        vertical-align: middle;\n",
       "    }\n",
       "\n",
       "    .dataframe tbody tr th {\n",
       "        vertical-align: top;\n",
       "    }\n",
       "\n",
       "    .dataframe thead th {\n",
       "        text-align: right;\n",
       "    }\n",
       "</style>\n",
       "<table border=\"1\" class=\"dataframe\">\n",
       "  <thead>\n",
       "    <tr style=\"text-align: right;\">\n",
       "      <th>gndr</th>\n",
       "      <th>F</th>\n",
       "      <th>M</th>\n",
       "      <th>U</th>\n",
       "    </tr>\n",
       "    <tr>\n",
       "      <th>target</th>\n",
       "      <th></th>\n",
       "      <th></th>\n",
       "      <th></th>\n",
       "    </tr>\n",
       "  </thead>\n",
       "  <tbody>\n",
       "    <tr>\n",
       "      <th>0</th>\n",
       "      <td>914</td>\n",
       "      <td>3237</td>\n",
       "      <td>849</td>\n",
       "    </tr>\n",
       "    <tr>\n",
       "      <th>1</th>\n",
       "      <td>535</td>\n",
       "      <td>3387</td>\n",
       "      <td>1078</td>\n",
       "    </tr>\n",
       "  </tbody>\n",
       "</table>\n",
       "</div>"
      ],
      "text/plain": [
       "gndr      F     M     U\n",
       "target                 \n",
       "0       914  3237   849\n",
       "1       535  3387  1078"
      ]
     },
     "execution_count": 49,
     "metadata": {},
     "output_type": "execute_result"
    }
   ],
   "source": [
    "pd.crosstab(index=df[\"target\"],columns=df[\"gndr\"])"
   ]
  },
  {
   "cell_type": "code",
   "execution_count": 51,
   "id": "920e48b8-18f3-4cbc-92b4-656683599bee",
   "metadata": {},
   "outputs": [
    {
     "ename": "AttributeError",
     "evalue": "'numpy.int64' object has no attribute 'startswith'",
     "output_type": "error",
     "traceback": [
      "\u001b[1;31m---------------------------------------------------------------------------\u001b[0m",
      "\u001b[1;31mAttributeError\u001b[0m                            Traceback (most recent call last)",
      "Cell \u001b[1;32mIn[51], line 1\u001b[0m\n\u001b[1;32m----> 1\u001b[0m sns\u001b[38;5;241m.\u001b[39mcountplot(x\u001b[38;5;241m=\u001b[39m\u001b[38;5;124m'\u001b[39m\u001b[38;5;124mgndr\u001b[39m\u001b[38;5;124m'\u001b[39m, hue\u001b[38;5;241m=\u001b[39m\u001b[38;5;124m'\u001b[39m\u001b[38;5;124mtarget\u001b[39m\u001b[38;5;124m'\u001b[39m, data\u001b[38;5;241m=\u001b[39mdf)\n",
      "File \u001b[1;32m~\\anaconda3\\Lib\\site-packages\\seaborn\\categorical.py:2955\u001b[0m, in \u001b[0;36mcountplot\u001b[1;34m(data, x, y, hue, order, hue_order, orient, color, palette, saturation, width, dodge, ax, **kwargs)\u001b[0m\n\u001b[0;32m   2952\u001b[0m \u001b[38;5;28;01mif\u001b[39;00m ax \u001b[38;5;129;01mis\u001b[39;00m \u001b[38;5;28;01mNone\u001b[39;00m:\n\u001b[0;32m   2953\u001b[0m     ax \u001b[38;5;241m=\u001b[39m plt\u001b[38;5;241m.\u001b[39mgca()\n\u001b[1;32m-> 2955\u001b[0m plotter\u001b[38;5;241m.\u001b[39mplot(ax, kwargs)\n\u001b[0;32m   2956\u001b[0m \u001b[38;5;28;01mreturn\u001b[39;00m ax\n",
      "File \u001b[1;32m~\\anaconda3\\Lib\\site-packages\\seaborn\\categorical.py:1587\u001b[0m, in \u001b[0;36m_BarPlotter.plot\u001b[1;34m(self, ax, bar_kws)\u001b[0m\n\u001b[0;32m   1585\u001b[0m \u001b[38;5;250m\u001b[39m\u001b[38;5;124;03m\"\"\"Make the plot.\"\"\"\u001b[39;00m\n\u001b[0;32m   1586\u001b[0m \u001b[38;5;28mself\u001b[39m\u001b[38;5;241m.\u001b[39mdraw_bars(ax, bar_kws)\n\u001b[1;32m-> 1587\u001b[0m \u001b[38;5;28mself\u001b[39m\u001b[38;5;241m.\u001b[39mannotate_axes(ax)\n\u001b[0;32m   1588\u001b[0m \u001b[38;5;28;01mif\u001b[39;00m \u001b[38;5;28mself\u001b[39m\u001b[38;5;241m.\u001b[39morient \u001b[38;5;241m==\u001b[39m \u001b[38;5;124m\"\u001b[39m\u001b[38;5;124mh\u001b[39m\u001b[38;5;124m\"\u001b[39m:\n\u001b[0;32m   1589\u001b[0m     ax\u001b[38;5;241m.\u001b[39minvert_yaxis()\n",
      "File \u001b[1;32m~\\anaconda3\\Lib\\site-packages\\seaborn\\categorical.py:767\u001b[0m, in \u001b[0;36m_CategoricalPlotter.annotate_axes\u001b[1;34m(self, ax)\u001b[0m\n\u001b[0;32m    764\u001b[0m     ax\u001b[38;5;241m.\u001b[39mset_ylim(\u001b[38;5;241m-\u001b[39m\u001b[38;5;241m.5\u001b[39m, \u001b[38;5;28mlen\u001b[39m(\u001b[38;5;28mself\u001b[39m\u001b[38;5;241m.\u001b[39mplot_data) \u001b[38;5;241m-\u001b[39m \u001b[38;5;241m.5\u001b[39m, auto\u001b[38;5;241m=\u001b[39m\u001b[38;5;28;01mNone\u001b[39;00m)\n\u001b[0;32m    766\u001b[0m \u001b[38;5;28;01mif\u001b[39;00m \u001b[38;5;28mself\u001b[39m\u001b[38;5;241m.\u001b[39mhue_names \u001b[38;5;129;01mis\u001b[39;00m \u001b[38;5;129;01mnot\u001b[39;00m \u001b[38;5;28;01mNone\u001b[39;00m:\n\u001b[1;32m--> 767\u001b[0m     ax\u001b[38;5;241m.\u001b[39mlegend(loc\u001b[38;5;241m=\u001b[39m\u001b[38;5;124m\"\u001b[39m\u001b[38;5;124mbest\u001b[39m\u001b[38;5;124m\"\u001b[39m, title\u001b[38;5;241m=\u001b[39m\u001b[38;5;28mself\u001b[39m\u001b[38;5;241m.\u001b[39mhue_title)\n",
      "File \u001b[1;32m~\\anaconda3\\Lib\\site-packages\\matplotlib\\axes\\_axes.py:322\u001b[0m, in \u001b[0;36mAxes.legend\u001b[1;34m(self, *args, **kwargs)\u001b[0m\n\u001b[0;32m    204\u001b[0m \u001b[38;5;129m@_docstring\u001b[39m\u001b[38;5;241m.\u001b[39mdedent_interpd\n\u001b[0;32m    205\u001b[0m \u001b[38;5;28;01mdef\u001b[39;00m \u001b[38;5;21mlegend\u001b[39m(\u001b[38;5;28mself\u001b[39m, \u001b[38;5;241m*\u001b[39margs, \u001b[38;5;241m*\u001b[39m\u001b[38;5;241m*\u001b[39mkwargs):\n\u001b[0;32m    206\u001b[0m \u001b[38;5;250m    \u001b[39m\u001b[38;5;124;03m\"\"\"\u001b[39;00m\n\u001b[0;32m    207\u001b[0m \u001b[38;5;124;03m    Place a legend on the Axes.\u001b[39;00m\n\u001b[0;32m    208\u001b[0m \n\u001b[1;32m   (...)\u001b[0m\n\u001b[0;32m    320\u001b[0m \u001b[38;5;124;03m    .. plot:: gallery/text_labels_and_annotations/legend.py\u001b[39;00m\n\u001b[0;32m    321\u001b[0m \u001b[38;5;124;03m    \"\"\"\u001b[39;00m\n\u001b[1;32m--> 322\u001b[0m     handles, labels, kwargs \u001b[38;5;241m=\u001b[39m mlegend\u001b[38;5;241m.\u001b[39m_parse_legend_args([\u001b[38;5;28mself\u001b[39m], \u001b[38;5;241m*\u001b[39margs, \u001b[38;5;241m*\u001b[39m\u001b[38;5;241m*\u001b[39mkwargs)\n\u001b[0;32m    323\u001b[0m     \u001b[38;5;28mself\u001b[39m\u001b[38;5;241m.\u001b[39mlegend_ \u001b[38;5;241m=\u001b[39m mlegend\u001b[38;5;241m.\u001b[39mLegend(\u001b[38;5;28mself\u001b[39m, handles, labels, \u001b[38;5;241m*\u001b[39m\u001b[38;5;241m*\u001b[39mkwargs)\n\u001b[0;32m    324\u001b[0m     \u001b[38;5;28mself\u001b[39m\u001b[38;5;241m.\u001b[39mlegend_\u001b[38;5;241m.\u001b[39m_remove_method \u001b[38;5;241m=\u001b[39m \u001b[38;5;28mself\u001b[39m\u001b[38;5;241m.\u001b[39m_remove_legend\n",
      "File \u001b[1;32m~\\anaconda3\\Lib\\site-packages\\matplotlib\\legend.py:1361\u001b[0m, in \u001b[0;36m_parse_legend_args\u001b[1;34m(axs, handles, labels, *args, **kwargs)\u001b[0m\n\u001b[0;32m   1357\u001b[0m     handles \u001b[38;5;241m=\u001b[39m [handle \u001b[38;5;28;01mfor\u001b[39;00m handle, label\n\u001b[0;32m   1358\u001b[0m                \u001b[38;5;129;01min\u001b[39;00m \u001b[38;5;28mzip\u001b[39m(_get_legend_handles(axs, handlers), labels)]\n\u001b[0;32m   1360\u001b[0m \u001b[38;5;28;01melif\u001b[39;00m \u001b[38;5;28mlen\u001b[39m(args) \u001b[38;5;241m==\u001b[39m \u001b[38;5;241m0\u001b[39m:  \u001b[38;5;66;03m# 0 args: automatically detect labels and handles.\u001b[39;00m\n\u001b[1;32m-> 1361\u001b[0m     handles, labels \u001b[38;5;241m=\u001b[39m _get_legend_handles_labels(axs, handlers)\n\u001b[0;32m   1362\u001b[0m     \u001b[38;5;28;01mif\u001b[39;00m \u001b[38;5;129;01mnot\u001b[39;00m handles:\n\u001b[0;32m   1363\u001b[0m         log\u001b[38;5;241m.\u001b[39mwarning(\n\u001b[0;32m   1364\u001b[0m             \u001b[38;5;124m\"\u001b[39m\u001b[38;5;124mNo artists with labels found to put in legend.  Note that \u001b[39m\u001b[38;5;124m\"\u001b[39m\n\u001b[0;32m   1365\u001b[0m             \u001b[38;5;124m\"\u001b[39m\u001b[38;5;124martists whose label start with an underscore are ignored \u001b[39m\u001b[38;5;124m\"\u001b[39m\n\u001b[0;32m   1366\u001b[0m             \u001b[38;5;124m\"\u001b[39m\u001b[38;5;124mwhen legend() is called with no argument.\u001b[39m\u001b[38;5;124m\"\u001b[39m)\n",
      "File \u001b[1;32m~\\anaconda3\\Lib\\site-packages\\matplotlib\\legend.py:1291\u001b[0m, in \u001b[0;36m_get_legend_handles_labels\u001b[1;34m(axs, legend_handler_map)\u001b[0m\n\u001b[0;32m   1289\u001b[0m \u001b[38;5;28;01mfor\u001b[39;00m handle \u001b[38;5;129;01min\u001b[39;00m _get_legend_handles(axs, legend_handler_map):\n\u001b[0;32m   1290\u001b[0m     label \u001b[38;5;241m=\u001b[39m handle\u001b[38;5;241m.\u001b[39mget_label()\n\u001b[1;32m-> 1291\u001b[0m     \u001b[38;5;28;01mif\u001b[39;00m label \u001b[38;5;129;01mand\u001b[39;00m \u001b[38;5;129;01mnot\u001b[39;00m label\u001b[38;5;241m.\u001b[39mstartswith(\u001b[38;5;124m'\u001b[39m\u001b[38;5;124m_\u001b[39m\u001b[38;5;124m'\u001b[39m):\n\u001b[0;32m   1292\u001b[0m         handles\u001b[38;5;241m.\u001b[39mappend(handle)\n\u001b[0;32m   1293\u001b[0m         labels\u001b[38;5;241m.\u001b[39mappend(label)\n",
      "\u001b[1;31mAttributeError\u001b[0m: 'numpy.int64' object has no attribute 'startswith'"
     ]
    },
    {
     "data": {
      "image/png": "[encoded data removed]",
      "text/plain": [
       "<Figure size 640x480 with 1 Axes>"
      ]
     },
     "metadata": {},
     "output_type": "display_data"
    }
   ],
   "source": [
    "sns.countplot(x='gndr', hue='target', data=df)\n",
    "\n",
    "#Nearly half of the males are multisimmers, but most of the females are not."
   ]
  },
  {
   "cell_type": "code",
   "execution_count": 54,
   "id": "ee3ecbcf-f159-4ce1-b58f-7eec0655ae3a",
   "metadata": {},
   "outputs": [
    {
     "data": {
      "text/plain": [
       "<Axes: xlabel='trf', ylabel='tenure'>"
      ]
     },
     "execution_count": 54,
     "metadata": {},
     "output_type": "execute_result"
    },
    {
     "data": {
      "image/png": "[encoded data removed]",
      "text/plain": [
       "<Figure size 640x480 with 1 Axes>"
      ]
     },
     "metadata": {},
     "output_type": "display_data"
    }
   ],
   "source": [
    "sns.barplot(data=df, x=df[\"trf\"],y=df['tenure'])\n",
    "\n",
    "#Tariff D has the highest average tenure (about 6800 days), meaning customers have been with the company for a long time.\n",
    "#Tariff P has a very low average tenure (~100 days), meaning customers are mostly new.\n",
    "#Plans J and A also have long-tenured customers."
   ]
  },
  {
   "cell_type": "code",
   "execution_count": 56,
   "id": "4d9f7fb2-8393-4f94-9289-a7cb005ae0a2",
   "metadata": {},
   "outputs": [
    {
     "data": {
      "text/plain": [
       "<Axes: xlabel='gndr', ylabel='tenure'>"
      ]
     },
     "execution_count": 56,
     "metadata": {},
     "output_type": "execute_result"
    },
    {
     "data": {
      "image/png": "[encoded data removed]",
      "text/plain": [
       "<Figure size 640x480 with 1 Axes>"
      ]
     },
     "metadata": {},
     "output_type": "display_data"
    }
   ],
   "source": [
    "sns.barplot(data=df, x=df[\"gndr\"],y=df['tenure'])\n",
    "\n",
    "\n",
    "#Customers with unknown gender type have the highest average tenure, followed by males, while females have the lowest."
   ]
  },
  {
   "cell_type": "code",
   "execution_count": 58,
   "id": "944eaac5-9872-4091-bf9e-608cdee1ec2e",
   "metadata": {},
   "outputs": [
    {
     "data": {
      "text/plain": [
       "<Axes: xlabel='simcard_type', ylabel='tenure'>"
      ]
     },
     "execution_count": 58,
     "metadata": {},
     "output_type": "execute_result"
    },
    {
     "data": {
      "image/png": "[encoded data removed]",
      "text/plain": [
       "<Figure size 640x480 with 1 Axes>"
      ]
     },
     "metadata": {},
     "output_type": "display_data"
    }
   ],
   "source": [
    "sns.barplot(data=df, x=df[\"simcard_type\"],y=df['tenure'])\n",
    "\n",
    "\n",
    "#3G simcard users are the oldest customers, followed by 4G users, on around 3300 days."
   ]
  },
  {
   "cell_type": "code",
   "execution_count": 60,
   "id": "bb8d6032-cf34-401f-afcf-20dfa155c492",
   "metadata": {},
   "outputs": [
    {
     "data": {
      "text/html": [
       "<div>\n",
       "<style scoped>\n",
       "    .dataframe tbody tr th:only-of-type {\n",
       "        vertical-align: middle;\n",
       "    }\n",
       "\n",
       "    .dataframe tbody tr th {\n",
       "        vertical-align: top;\n",
       "    }\n",
       "\n",
       "    .dataframe thead th {\n",
       "        text-align: right;\n",
       "    }\n",
       "</style>\n",
       "<table border=\"1\" class=\"dataframe\">\n",
       "  <thead>\n",
       "    <tr style=\"text-align: right;\">\n",
       "      <th></th>\n",
       "      <th>trf</th>\n",
       "      <th>age</th>\n",
       "      <th>gndr</th>\n",
       "      <th>tenure</th>\n",
       "      <th>age_dev</th>\n",
       "      <th>dev_man</th>\n",
       "      <th>device_os_name</th>\n",
       "      <th>dev_num</th>\n",
       "      <th>is_dualsim</th>\n",
       "      <th>is_featurephone</th>\n",
       "      <th>...</th>\n",
       "      <th>val13_6</th>\n",
       "      <th>val14_6</th>\n",
       "      <th>val15_6</th>\n",
       "      <th>val16_6</th>\n",
       "      <th>val17_6</th>\n",
       "      <th>val18_6</th>\n",
       "      <th>val19_6</th>\n",
       "      <th>val20_6</th>\n",
       "      <th>val21_6</th>\n",
       "      <th>target</th>\n",
       "    </tr>\n",
       "    <tr>\n",
       "      <th>telephone_number</th>\n",
       "      <th></th>\n",
       "      <th></th>\n",
       "      <th></th>\n",
       "      <th></th>\n",
       "      <th></th>\n",
       "      <th></th>\n",
       "      <th></th>\n",
       "      <th></th>\n",
       "      <th></th>\n",
       "      <th></th>\n",
       "      <th></th>\n",
       "      <th></th>\n",
       "      <th></th>\n",
       "      <th></th>\n",
       "      <th></th>\n",
       "      <th></th>\n",
       "      <th></th>\n",
       "      <th></th>\n",
       "      <th></th>\n",
       "      <th></th>\n",
       "      <th></th>\n",
       "    </tr>\n",
       "  </thead>\n",
       "  <tbody>\n",
       "    <tr>\n",
       "      <th>iWBn_13aJO</th>\n",
       "      <td>J</td>\n",
       "      <td>50.0</td>\n",
       "      <td>M</td>\n",
       "      <td>6957.0</td>\n",
       "      <td>1263.0</td>\n",
       "      <td>Samsung</td>\n",
       "      <td>Android OS</td>\n",
       "      <td>1.0</td>\n",
       "      <td>1</td>\n",
       "      <td>0</td>\n",
       "      <td>...</td>\n",
       "      <td>0.000000</td>\n",
       "      <td>0.0</td>\n",
       "      <td>0.00</td>\n",
       "      <td>0.56</td>\n",
       "      <td>0.00</td>\n",
       "      <td>0.00</td>\n",
       "      <td>60.0</td>\n",
       "      <td>7.0</td>\n",
       "      <td>0.0</td>\n",
       "      <td>1</td>\n",
       "    </tr>\n",
       "    <tr>\n",
       "      <th>8JWaD2wYoQ</th>\n",
       "      <td>M</td>\n",
       "      <td>52.0</td>\n",
       "      <td>M</td>\n",
       "      <td>1041.0</td>\n",
       "      <td>125.0</td>\n",
       "      <td>Samsung</td>\n",
       "      <td>Android OS</td>\n",
       "      <td>2.0</td>\n",
       "      <td>1</td>\n",
       "      <td>0</td>\n",
       "      <td>...</td>\n",
       "      <td>206.536585</td>\n",
       "      <td>0.0</td>\n",
       "      <td>0.40</td>\n",
       "      <td>0.00</td>\n",
       "      <td>0.16</td>\n",
       "      <td>0.24</td>\n",
       "      <td>156.0</td>\n",
       "      <td>0.0</td>\n",
       "      <td>2.0</td>\n",
       "      <td>1</td>\n",
       "    </tr>\n",
       "    <tr>\n",
       "      <th>sbPnQURi3j</th>\n",
       "      <td>A</td>\n",
       "      <td>49.0</td>\n",
       "      <td>U</td>\n",
       "      <td>7176.0</td>\n",
       "      <td>345.0</td>\n",
       "      <td>Samsung</td>\n",
       "      <td>Android OS</td>\n",
       "      <td>1.0</td>\n",
       "      <td>1</td>\n",
       "      <td>0</td>\n",
       "      <td>...</td>\n",
       "      <td>0.000000</td>\n",
       "      <td>0.0</td>\n",
       "      <td>0.25</td>\n",
       "      <td>2.35</td>\n",
       "      <td>0.00</td>\n",
       "      <td>0.25</td>\n",
       "      <td>241.0</td>\n",
       "      <td>87.0</td>\n",
       "      <td>4.0</td>\n",
       "      <td>1</td>\n",
       "    </tr>\n",
       "    <tr>\n",
       "      <th>qOy-JlqPTl</th>\n",
       "      <td>M</td>\n",
       "      <td>49.0</td>\n",
       "      <td>M</td>\n",
       "      <td>4309.0</td>\n",
       "      <td>466.0</td>\n",
       "      <td>Samsung</td>\n",
       "      <td>Android OS</td>\n",
       "      <td>1.0</td>\n",
       "      <td>1</td>\n",
       "      <td>0</td>\n",
       "      <td>...</td>\n",
       "      <td>51.885746</td>\n",
       "      <td>0.0</td>\n",
       "      <td>0.00</td>\n",
       "      <td>0.00</td>\n",
       "      <td>0.00</td>\n",
       "      <td>0.00</td>\n",
       "      <td>299.0</td>\n",
       "      <td>142.0</td>\n",
       "      <td>80.0</td>\n",
       "      <td>1</td>\n",
       "    </tr>\n",
       "    <tr>\n",
       "      <th>MNODhcb7h0</th>\n",
       "      <td>A</td>\n",
       "      <td>50.0</td>\n",
       "      <td>U</td>\n",
       "      <td>6999.0</td>\n",
       "      <td>695.0</td>\n",
       "      <td>Samsung</td>\n",
       "      <td>Android OS</td>\n",
       "      <td>1.0</td>\n",
       "      <td>1</td>\n",
       "      <td>0</td>\n",
       "      <td>...</td>\n",
       "      <td>0.000000</td>\n",
       "      <td>0.0</td>\n",
       "      <td>0.00</td>\n",
       "      <td>0.80</td>\n",
       "      <td>0.00</td>\n",
       "      <td>0.00</td>\n",
       "      <td>121.0</td>\n",
       "      <td>96.0</td>\n",
       "      <td>0.0</td>\n",
       "      <td>1</td>\n",
       "    </tr>\n",
       "  </tbody>\n",
       "</table>\n",
       "<p>5 rows × 131 columns</p>\n",
       "</div>"
      ],
      "text/plain": [
       "                 trf   age gndr  tenure  age_dev  dev_man device_os_name  \\\n",
       "telephone_number                                                           \n",
       "iWBn_13aJO         J  50.0    M  6957.0   1263.0  Samsung     Android OS   \n",
       "8JWaD2wYoQ         M  52.0    M  1041.0    125.0  Samsung     Android OS   \n",
       "sbPnQURi3j         A  49.0    U  7176.0    345.0  Samsung     Android OS   \n",
       "qOy-JlqPTl         M  49.0    M  4309.0    466.0  Samsung     Android OS   \n",
       "MNODhcb7h0         A  50.0    U  6999.0    695.0  Samsung     Android OS   \n",
       "\n",
       "                  dev_num  is_dualsim  is_featurephone  ...     val13_6  \\\n",
       "telephone_number                                        ...               \n",
       "iWBn_13aJO            1.0           1                0  ...    0.000000   \n",
       "8JWaD2wYoQ            2.0           1                0  ...  206.536585   \n",
       "sbPnQURi3j            1.0           1                0  ...    0.000000   \n",
       "qOy-JlqPTl            1.0           1                0  ...   51.885746   \n",
       "MNODhcb7h0            1.0           1                0  ...    0.000000   \n",
       "\n",
       "                 val14_6 val15_6  val16_6  val17_6  val18_6  val19_6  val20_6  \\\n",
       "telephone_number                                                                \n",
       "iWBn_13aJO           0.0    0.00     0.56     0.00     0.00     60.0      7.0   \n",
       "8JWaD2wYoQ           0.0    0.40     0.00     0.16     0.24    156.0      0.0   \n",
       "sbPnQURi3j           0.0    0.25     2.35     0.00     0.25    241.0     87.0   \n",
       "qOy-JlqPTl           0.0    0.00     0.00     0.00     0.00    299.0    142.0   \n",
       "MNODhcb7h0           0.0    0.00     0.80     0.00     0.00    121.0     96.0   \n",
       "\n",
       "                  val21_6  target  \n",
       "telephone_number                   \n",
       "iWBn_13aJO            0.0       1  \n",
       "8JWaD2wYoQ            2.0       1  \n",
       "sbPnQURi3j            4.0       1  \n",
       "qOy-JlqPTl           80.0       1  \n",
       "MNODhcb7h0            0.0       1  \n",
       "\n",
       "[5 rows x 131 columns]"
      ]
     },
     "execution_count": 60,
     "metadata": {},
     "output_type": "execute_result"
    }
   ],
   "source": [
    "df=df.set_index(\"telephone_number\")\n",
    "df.head()"
   ]
  },
  {
   "cell_type": "code",
   "execution_count": 62,
   "id": "e9e54dfc-2cd6-4fae-935b-44265ae0dee4",
   "metadata": {},
   "outputs": [
    {
     "data": {
      "text/html": [
       "<div>\n",
       "<style scoped>\n",
       "    .dataframe tbody tr th:only-of-type {\n",
       "        vertical-align: middle;\n",
       "    }\n",
       "\n",
       "    .dataframe tbody tr th {\n",
       "        vertical-align: top;\n",
       "    }\n",
       "\n",
       "    .dataframe thead th {\n",
       "        text-align: right;\n",
       "    }\n",
       "</style>\n",
       "<table border=\"1\" class=\"dataframe\">\n",
       "  <thead>\n",
       "    <tr style=\"text-align: right;\">\n",
       "      <th></th>\n",
       "      <th>is_smartphone</th>\n",
       "      <th>is_featurephone</th>\n",
       "    </tr>\n",
       "  </thead>\n",
       "  <tbody>\n",
       "    <tr>\n",
       "      <th>is_smartphone</th>\n",
       "      <td>1.0</td>\n",
       "      <td>-1.0</td>\n",
       "    </tr>\n",
       "    <tr>\n",
       "      <th>is_featurephone</th>\n",
       "      <td>-1.0</td>\n",
       "      <td>1.0</td>\n",
       "    </tr>\n",
       "  </tbody>\n",
       "</table>\n",
       "</div>"
      ],
      "text/plain": [
       "                 is_smartphone  is_featurephone\n",
       "is_smartphone              1.0             -1.0\n",
       "is_featurephone           -1.0              1.0"
      ]
     },
     "execution_count": 62,
     "metadata": {},
     "output_type": "execute_result"
    }
   ],
   "source": [
    "df[['is_smartphone',\"is_featurephone\"]].corr()\n",
    "\n",
    "#is_featurephone is opposite of is_smartphone, we can delete one of them."
   ]
  },
  {
   "cell_type": "code",
   "execution_count": 64,
   "id": "8b2bff1b-4745-4ed1-bcd6-bdbb6d13790c",
   "metadata": {},
   "outputs": [],
   "source": [
    "df=df.drop(\"is_featurephone\",axis=1)"
   ]
  },
  {
   "cell_type": "code",
   "execution_count": null,
   "id": "44d7b8fb-54ae-4187-947f-a5ac18e54223",
   "metadata": {},
   "outputs": [],
   "source": []
  }
 ],
 "metadata": {
  "kernelspec": {
   "display_name": "Python 3 (ipykernel)",
   "language": "python",
   "name": "python3"
  },
  "language_info": {
   "codemirror_mode": {
    "name": "ipython",
    "version": 3
   },
   "file_extension": ".py",
   "mimetype": "text/x-python",
   "name": "python",
   "nbconvert_exporter": "python",
   "pygments_lexer": "ipython3",
   "version": "3.11.7"
  }
 },
 "nbformat": 4,
 "nbformat_minor": 5
}
